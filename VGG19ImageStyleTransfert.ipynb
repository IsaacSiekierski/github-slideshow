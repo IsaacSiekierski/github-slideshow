{
  "nbformat": 4,
  "nbformat_minor": 0,
  "metadata": {
    "colab": {
      "name": "VGG19ImageStyleTransfert.ipynb",
      "provenance": [],
      "authorship_tag": "ABX9TyOYtXuLVkWk4DPXsMTLSnVO",
      "include_colab_link": true
    },
    "kernelspec": {
      "name": "python3",
      "display_name": "Python 3"
    },
    "language_info": {
      "name": "python"
    }
  },
  "cells": [
    {
      "cell_type": "markdown",
      "metadata": {
        "id": "view-in-github",
        "colab_type": "text"
      },
      "source": [
        "<a href=\"https://colab.research.google.com/github/IsaacSiekierski/github-slideshow/blob/master/VGG19ImageStyleTransfert.ipynb\" target=\"_parent\"><img src=\"https://colab.research.google.com/assets/colab-badge.svg\" alt=\"Open In Colab\"/></a>"
      ]
    },
    {
      "cell_type": "code",
      "metadata": {
        "id": "bLgbBOk9ak8h",
        "colab": {
          "base_uri": "https://localhost:8080/"
        },
        "outputId": "5e220115-be1a-446c-db6a-5d5c31d938b8"
      },
      "source": [
        "print(\"Hello Serge\")"
      ],
      "execution_count": 1,
      "outputs": [
        {
          "output_type": "stream",
          "text": [
            "Hello Serge\n"
          ],
          "name": "stdout"
        }
      ]
    }
  ]
}